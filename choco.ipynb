{
 "cells": [
  {
   "cell_type": "markdown",
   "id": "a7ddbc30",
   "metadata": {},
   "source": [
    "*** Much of the code on this page was generated using Claude Code and used for educational purposes. (August, 2025)\" "
   ]
  },
  {
   "cell_type": "code",
   "execution_count": 1,
   "id": "844f5788",
   "metadata": {},
   "outputs": [],
   "source": [
    "import pandas as pd"
   ]
  },
  {
   "cell_type": "markdown",
   "id": "64dc1b2e",
   "metadata": {},
   "source": [
    "Read the dataset into a Pandas DataFrame!"
   ]
  },
  {
   "cell_type": "code",
   "execution_count": 2,
   "id": "ee773a50",
   "metadata": {},
   "outputs": [],
   "source": [
    "df = pd.read_csv(\"flavors_of_cacao.csv\")"
   ]
  },
  {
   "cell_type": "code",
   "execution_count": 19,
   "id": "3658a28a",
   "metadata": {},
   "outputs": [
    {
     "data": {
      "text/html": [
       "<div>\n",
       "<style scoped>\n",
       "    .dataframe tbody tr th:only-of-type {\n",
       "        vertical-align: middle;\n",
       "    }\n",
       "\n",
       "    .dataframe tbody tr th {\n",
       "        vertical-align: top;\n",
       "    }\n",
       "\n",
       "    .dataframe thead th {\n",
       "        text-align: right;\n",
       "    }\n",
       "</style>\n",
       "<table border=\"1\" class=\"dataframe\">\n",
       "  <thead>\n",
       "    <tr style=\"text-align: right;\">\n",
       "      <th></th>\n",
       "      <th>Company</th>\n",
       "      <th>Specific Bean Origin or Bar Name</th>\n",
       "      <th>REF</th>\n",
       "      <th>Review Date</th>\n",
       "      <th>Cocoa Percent</th>\n",
       "      <th>Company Location</th>\n",
       "      <th>Rating</th>\n",
       "      <th>Bean Type</th>\n",
       "      <th>Broad Bean Origin</th>\n",
       "    </tr>\n",
       "  </thead>\n",
       "  <tbody>\n",
       "    <tr>\n",
       "      <th>0</th>\n",
       "      <td>A. Morin</td>\n",
       "      <td>Agua Grande</td>\n",
       "      <td>1876</td>\n",
       "      <td>2016</td>\n",
       "      <td>63%</td>\n",
       "      <td>France</td>\n",
       "      <td>3.75</td>\n",
       "      <td></td>\n",
       "      <td>Sao Tome</td>\n",
       "    </tr>\n",
       "    <tr>\n",
       "      <th>1</th>\n",
       "      <td>A. Morin</td>\n",
       "      <td>Kpime</td>\n",
       "      <td>1676</td>\n",
       "      <td>2015</td>\n",
       "      <td>70%</td>\n",
       "      <td>France</td>\n",
       "      <td>2.75</td>\n",
       "      <td></td>\n",
       "      <td>Togo</td>\n",
       "    </tr>\n",
       "    <tr>\n",
       "      <th>2</th>\n",
       "      <td>A. Morin</td>\n",
       "      <td>Atsane</td>\n",
       "      <td>1676</td>\n",
       "      <td>2015</td>\n",
       "      <td>70%</td>\n",
       "      <td>France</td>\n",
       "      <td>3.00</td>\n",
       "      <td></td>\n",
       "      <td>Togo</td>\n",
       "    </tr>\n",
       "    <tr>\n",
       "      <th>3</th>\n",
       "      <td>A. Morin</td>\n",
       "      <td>Akata</td>\n",
       "      <td>1680</td>\n",
       "      <td>2015</td>\n",
       "      <td>70%</td>\n",
       "      <td>France</td>\n",
       "      <td>3.50</td>\n",
       "      <td></td>\n",
       "      <td>Togo</td>\n",
       "    </tr>\n",
       "    <tr>\n",
       "      <th>4</th>\n",
       "      <td>A. Morin</td>\n",
       "      <td>Quilla</td>\n",
       "      <td>1704</td>\n",
       "      <td>2015</td>\n",
       "      <td>70%</td>\n",
       "      <td>France</td>\n",
       "      <td>3.50</td>\n",
       "      <td></td>\n",
       "      <td>Peru</td>\n",
       "    </tr>\n",
       "  </tbody>\n",
       "</table>\n",
       "</div>"
      ],
      "text/plain": [
       "    Company Specific Bean Origin or Bar Name   REF  Review Date Cocoa Percent  \\\n",
       "0  A. Morin                      Agua Grande  1876         2016           63%   \n",
       "1  A. Morin                            Kpime  1676         2015           70%   \n",
       "2  A. Morin                           Atsane  1676         2015           70%   \n",
       "3  A. Morin                            Akata  1680         2015           70%   \n",
       "4  A. Morin                           Quilla  1704         2015           70%   \n",
       "\n",
       "  Company Location  Rating Bean Type Broad Bean Origin  \n",
       "0           France    3.75                    Sao Tome  \n",
       "1           France    2.75                        Togo  \n",
       "2           France    3.00                        Togo  \n",
       "3           France    3.50                        Togo  \n",
       "4           France    3.50                        Peru  "
      ]
     },
     "execution_count": 19,
     "metadata": {},
     "output_type": "execute_result"
    }
   ],
   "source": [
    "df.head()"
   ]
  },
  {
   "cell_type": "code",
   "execution_count": 5,
   "id": "55668e31",
   "metadata": {},
   "outputs": [
    {
     "data": {
      "text/plain": [
       "Index(['Company', 'Specific Bean Origin or Bar Name', 'REF', 'Review Date',\n",
       "       'Cocoa Percent', 'Company Location', 'Rating', 'Bean Type',\n",
       "       'Broad Bean Origin'],\n",
       "      dtype='object')"
      ]
     },
     "execution_count": 5,
     "metadata": {},
     "output_type": "execute_result"
    }
   ],
   "source": [
    "df.columns"
   ]
  },
  {
   "cell_type": "code",
   "execution_count": 7,
   "id": "3302ef45",
   "metadata": {},
   "outputs": [
    {
     "data": {
      "text/plain": [
       "np.True_"
      ]
     },
     "execution_count": 7,
     "metadata": {},
     "output_type": "execute_result"
    }
   ],
   "source": [
    "df.isnull().any().any()"
   ]
  },
  {
   "cell_type": "markdown",
   "id": "d8b3e9e7",
   "metadata": {},
   "source": [
    "Does the dataset include any missing values? If so, delete the missing value entries! "
   ]
  },
  {
   "cell_type": "code",
   "execution_count": 20,
   "id": "d44408dc",
   "metadata": {},
   "outputs": [],
   "source": [
    "df = df.dropna()"
   ]
  },
  {
   "cell_type": "markdown",
   "id": "0f2cac75",
   "metadata": {},
   "source": [
    "removing cells with empty spaces"
   ]
  },
  {
   "cell_type": "code",
   "execution_count": 22,
   "id": "5b60beda",
   "metadata": {},
   "outputs": [],
   "source": [
    "import numpy as np\n",
    "df_clean = df.replace(' ', np.nan).dropna()"
   ]
  },
  {
   "cell_type": "markdown",
   "id": "aa51150c",
   "metadata": {},
   "source": [
    "How many tuples are there in the dataset?\n",
    "How many unique company names are there in the dataset?\n",
    "How many reviews are made in 2013 in the dataset?\n",
    "In the BeanType Column, how many missing values are there? "
   ]
  },
  {
   "cell_type": "code",
   "execution_count": 26,
   "id": "da364f1f",
   "metadata": {},
   "outputs": [
    {
     "data": {
      "text/plain": [
       "1793"
      ]
     },
     "execution_count": 26,
     "metadata": {},
     "output_type": "execute_result"
    }
   ],
   "source": [
    "df.shape[0]"
   ]
  },
  {
   "cell_type": "code",
   "execution_count": 27,
   "id": "6b7b2275",
   "metadata": {},
   "outputs": [
    {
     "data": {
      "text/plain": [
       "416"
      ]
     },
     "execution_count": 27,
     "metadata": {},
     "output_type": "execute_result"
    }
   ],
   "source": [
    "df['Company'].nunique()"
   ]
  },
  {
   "cell_type": "code",
   "execution_count": 28,
   "id": "4d9e23f8",
   "metadata": {},
   "outputs": [
    {
     "data": {
      "text/plain": [
       "184"
      ]
     },
     "execution_count": 28,
     "metadata": {},
     "output_type": "execute_result"
    }
   ],
   "source": [
    "len(df[df['Review Date'] == 2013])"
   ]
  },
  {
   "cell_type": "code",
   "execution_count": 29,
   "id": "187a75bf",
   "metadata": {},
   "outputs": [
    {
     "data": {
      "text/plain": [
       "np.int64(0)"
      ]
     },
     "execution_count": 29,
     "metadata": {},
     "output_type": "execute_result"
    }
   ],
   "source": [
    "df['Bean Type'].isnull().sum()"
   ]
  },
  {
   "cell_type": "markdown",
   "id": "1446594d",
   "metadata": {},
   "source": [
    "Visualize the rating column with a histogram!\n",
    "Comment on the resulting figure!\n",
    "Convert and Visualize.\n",
    "Convert the Column Percent.\n",
    "Change the type of values in the column percent from string values to numerical values. "
   ]
  },
  {
   "cell_type": "code",
   "execution_count": 30,
   "id": "180602a7",
   "metadata": {},
   "outputs": [
    {
     "data": {
      "image/png": "[encoded data removed]",
      "text/plain": [
       "<Figure size 640x480 with 1 Axes>"
      ]
     },
     "metadata": {},
     "output_type": "display_data"
    }
   ],
   "source": [
    "import matplotlib.pyplot as plt\n",
    "df['Rating'].hist(bins=20)\n",
    "plt.xlabel('Rating')\n",
    "plt.ylabel('Frequency')\n",
    "plt.title('Distribution of Chocolate Ratings')\n",
    "plt.show()"
   ]
  },
  {
   "cell_type": "code",
   "execution_count": 31,
   "id": "492bbb93",
   "metadata": {},
   "outputs": [],
   "source": [
    "df['Cocoa Percent'] = df['Cocoa Percent'].str.replace('%', '').astype(float)"
   ]
  },
  {
   "cell_type": "code",
   "execution_count": 32,
   "id": "e76e3a27",
   "metadata": {},
   "outputs": [
    {
     "data": {
      "image/png": "[encoded data removed]",
      "text/plain": [
       "<Figure size 1000x600 with 1 Axes>"
      ]
     },
     "metadata": {},
     "output_type": "display_data"
    }
   ],
   "source": [
    "plt.figure(figsize=(10, 6))\n",
    "plt.scatter(df['Cocoa Percent'], df['Rating'], alpha=0.6)\n",
    "plt.xlabel('Cocoa Percent (%)')\n",
    "plt.ylabel('Rating')\n",
    "plt.title('Chocolate Rating vs Cocoa Percentage')\n",
    "plt.grid(True, alpha=0.3)\n",
    "plt.show()"
   ]
  },
  {
   "cell_type": "markdown",
   "id": "2a919d95",
   "metadata": {},
   "source": [
    " Normalize the Rating Column and print the results. "
   ]
  },
  {
   "cell_type": "code",
   "execution_count": 33,
   "id": "bad87ed8",
   "metadata": {},
   "outputs": [
    {
     "name": "stdout",
     "output_type": "stream",
     "text": [
      "   Rating  Rating_normalized\n",
      "0    3.75             0.6875\n",
      "1    2.75             0.4375\n",
      "2    3.00             0.5000\n",
      "3    3.50             0.6250\n",
      "4    3.50             0.6250\n"
     ]
    }
   ],
   "source": [
    "from sklearn.preprocessing import MinMaxScaler\n",
    "scaler = MinMaxScaler()\n",
    "df['Rating_normalized'] = scaler.fit_transform(df[['Rating']])\n",
    "print(df[['Rating', 'Rating_normalized']].head())"
   ]
  },
  {
   "cell_type": "code",
   "execution_count": null,
   "id": "c084b796",
   "metadata": {},
   "outputs": [],
   "source": []
  }
 ],
 "metadata": {
  "kernelspec": {
   "display_name": "venv",
   "language": "python",
   "name": "python3"
  },
  "language_info": {
   "codemirror_mode": {
    "name": "ipython",
    "version": 3
   },
   "file_extension": ".py",
   "mimetype": "text/x-python",
   "name": "python",
   "nbconvert_exporter": "python",
   "pygments_lexer": "ipython3",
   "version": "3.13.5"
  }
 },
 "nbformat": 4,
 "nbformat_minor": 5
}
